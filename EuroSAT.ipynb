{
  "cells": [
    {
      "cell_type": "markdown",
      "metadata": {
        "id": "view-in-github",
        "colab_type": "text"
      },
      "source": [
        "<a href=\"https://colab.research.google.com/github/RingoKid/EuroSAT-DeepLearning/blob/cnn/EuroSAT.ipynb\" target=\"_parent\"><img src=\"https://colab.research.google.com/assets/colab-badge.svg\" alt=\"Open In Colab\"/></a>"
      ]
    },
    {
      "cell_type": "markdown",
      "metadata": {
        "id": "NDhQ6mntUa0t"
      },
      "source": [
        "# Import the required libraries"
      ]
    },
    {
      "cell_type": "code",
      "execution_count": 28,
      "metadata": {
        "id": "pS71z0PNsCEU"
      },
      "outputs": [],
      "source": [
        "import tensorflow as tf\n",
        "import tensorflow_datasets as tfds\n",
        "import matplotlib.pyplot as plt\n",
        "import numpy as np\n",
        "from tensorflow.image import resize\n",
        "from google.colab import drive\n",
        "import os\n",
        "import json\n",
        "import pickle"
      ]
    },
    {
      "cell_type": "markdown",
      "metadata": {
        "id": "mdU2sDEMUf3c"
      },
      "source": [
        "# Load the EuroSAT dataset (all bands version)\n",
        "The EuroSAT dataset is loaded using `tfds.load()`. We use the `\"eurosat/all\"` version to get all spectral bands. The `with_info=True` flag provides metadata about the dataset (`info`), which gives us additional context like the number of classes, features, etc.\n"
      ]
    },
    {
      "cell_type": "code",
      "execution_count": 29,
      "metadata": {
        "id": "gD9kRxjavh9E"
      },
      "outputs": [],
      "source": [
        "dataset, info = tfds.load(\"eurosat/all\", split='train', with_info=True)\n"
      ]
    },
    {
      "cell_type": "markdown",
      "source": [
        "##### Mount Google Drive"
      ],
      "metadata": {
        "id": "1ggBkPpWRlkI"
      }
    },
    {
      "cell_type": "code",
      "execution_count": null,
      "metadata": {
        "id": "OytnnrGe3seK"
      },
      "outputs": [],
      "source": [
        "# Mount Google Drive\n",
        "drive.mount('/content/drive')\n",
        "\n",
        "# Specify a directory in Google Drive to save the dataset\n",
        "save_path = '/content/drive/My Drive/EuroSAT_datasets/'\n",
        "\n",
        "# Save the dataset using TensorFlow's save method\n",
        "tf.data.Dataset.save(dataset, os.path.join(save_path, 'eurosat_all'))\n",
        "print(\"Dataset saved to Google Drive.\")\n"
      ]
    },
    {
      "cell_type": "code",
      "execution_count": null,
      "metadata": {
        "id": "H1nvXv2gjWxQ"
      },
      "outputs": [],
      "source": [
        "# Save dataset info using pickle\n",
        "info_file_path = os.path.join(save_path, 'eurosat_info.pkl')\n",
        "with open(info_file_path, 'wb') as f:\n",
        "    pickle.dump(info, f)"
      ]
    },
    {
      "cell_type": "code",
      "execution_count": null,
      "metadata": {
        "colab": {
          "base_uri": "https://localhost:8080/"
        },
        "id": "DeRsAxhajlWD",
        "outputId": "eb22126b-fd88-46bc-de5c-cf81178a1d95"
      },
      "outputs": [
        {
          "output_type": "stream",
          "name": "stdout",
          "text": [
            "Dataset and info loaded from Google Drive.\n"
          ]
        }
      ],
      "source": [
        "# Load the dataset from Google Drive\n",
        "dataset = tf.data.Dataset.load(os.path.join(save_path, 'eurosat_all'))\n",
        "\n",
        "# Load dataset info using pickle\n",
        "info_file_path = os.path.join(save_path, 'eurosat_info.pkl')\n",
        "with open(info_file_path, 'rb') as f:\n",
        "    info = pickle.load(f)\n",
        "\n",
        "print(\"Dataset and info loaded from Google Drive.\")\n"
      ]
    },
    {
      "cell_type": "markdown",
      "source": [
        "##### Data Description"
      ],
      "metadata": {
        "id": "12SFQHU0Rs-V"
      }
    },
    {
      "cell_type": "code",
      "execution_count": 3,
      "metadata": {
        "colab": {
          "base_uri": "https://localhost:8080/"
        },
        "collapsed": true,
        "id": "T6XFkWK4vw2y",
        "outputId": "6fef6e44-5620-4a19-b714-f47b81a69cda"
      },
      "outputs": [
        {
          "output_type": "stream",
          "name": "stdout",
          "text": [
            "tfds.core.DatasetInfo(\n",
            "    name='eurosat',\n",
            "    full_name='eurosat/all/2.0.0',\n",
            "    description=\"\"\"\n",
            "    EuroSAT dataset is based on Sentinel-2 satellite images covering 13 spectral\n",
            "    bands and consisting of 10 classes with 27000 labeled and\n",
            "    geo-referenced samples.\n",
            "    \n",
            "    Two datasets are offered:\n",
            "    - rgb: Contains only the optical R, G, B frequency bands encoded as JPEG image.\n",
            "    - all: Contains all 13 bands in the original value range (float32).\n",
            "    \n",
            "    URL: https://github.com/phelber/eurosat\n",
            "    \"\"\",\n",
            "    config_description=\"\"\"\n",
            "    13 Sentinel-2 channels\n",
            "    \"\"\",\n",
            "    homepage='https://github.com/phelber/eurosat',\n",
            "    data_dir=PosixGPath('/tmp/tmpsvl45kh2tfds'),\n",
            "    file_format=tfrecord,\n",
            "    download_size=1.93 GiB,\n",
            "    dataset_size=5.36 GiB,\n",
            "    features=FeaturesDict({\n",
            "        'filename': Text(shape=(), dtype=string),\n",
            "        'label': ClassLabel(shape=(), dtype=int64, num_classes=10),\n",
            "        'sentinel2': Tensor(shape=(64, 64, 13), dtype=float32),\n",
            "    }),\n",
            "    supervised_keys=('sentinel2', 'label'),\n",
            "    disable_shuffling=False,\n",
            "    splits={\n",
            "        'train': <SplitInfo num_examples=27000, num_shards=64>,\n",
            "    },\n",
            "    citation=\"\"\"@misc{helber2017eurosat,\n",
            "        title={EuroSAT: A Novel Dataset and Deep Learning Benchmark for Land Use and Land Cover Classification},\n",
            "        author={Patrick Helber and Benjamin Bischke and Andreas Dengel and Damian Borth},\n",
            "        year={2017},\n",
            "        eprint={1709.00029},\n",
            "        archivePrefix={arXiv},\n",
            "        primaryClass={cs.CV}\n",
            "    }\"\"\",\n",
            ")\n"
          ]
        }
      ],
      "source": [
        "# Get the dataset information\n",
        "print(info)"
      ]
    },
    {
      "cell_type": "code",
      "execution_count": 30,
      "metadata": {
        "id": "cs5dK3ygjhiF",
        "colab": {
          "base_uri": "https://localhost:8080/"
        },
        "outputId": "67d444e9-2f23-44e8-9dd3-4c2af629c674"
      },
      "outputs": [
        {
          "output_type": "execute_result",
          "data": {
            "text/plain": [
              "FeaturesDict({\n",
              "    'filename': Text(shape=(), dtype=string),\n",
              "    'label': ClassLabel(shape=(), dtype=int64, num_classes=10),\n",
              "    'sentinel2': Tensor(shape=(64, 64, 13), dtype=float32),\n",
              "})"
            ]
          },
          "metadata": {},
          "execution_count": 30
        }
      ],
      "source": [
        "info.features"
      ]
    },
    {
      "cell_type": "markdown",
      "metadata": {
        "id": "IWRgDVrSVVIB"
      },
      "source": [
        "- **Name & Version**: The dataset name is `'eurosat/all/2.0.0'`, which means we are using version 2.0.0 of the dataset that contains all **13 Sentinel-2 spectral bands**.\n",
        "- **Description**: The dataset is based on **Sentinel-2 satellite images** and consists of **13 spectral bands**, with 10 classes across **27,000 labeled samples**. The dataset offers two configurations—**'rgb'** (only R, G, B bands) and **'all'** (all 13 bands).\n",
        "- **Data Size**: The **download size** of the dataset is **1.93 GiB**, and the total **dataset size** after processing is **5.36 GiB**.\n",
        "- **Features**:\n",
        "  - The dataset has three main features:\n",
        "    - **'filename'**: This is a text feature that represents the filename.\n",
        "    - **'label'**: This is an integer label with **10 classes**, which represent different types of land use or land cover.\n",
        "    - **'sentinel2'**: This is a **tensor** of shape `(64, 64, 13)`, which means each image has dimensions **64x64** with **13 channels** (the spectral bands).\n",
        "- **Supervised Keys**: The dataset is structured for supervised learning with input as `'sentinel2'` (the image) and output as `'label'`.\n",
        "- **Splits**: The dataset is divided into a `'train'` split containing **27,000 examples**.\n",
        "\n",
        "This information helps us understand what we are working with: a **multispectral dataset** with 13 bands per image, each of size **64x64** pixels, classified into **10 distinct classes**.\n",
        "\n"
      ]
    },
    {
      "cell_type": "markdown",
      "metadata": {
        "id": "_UCOy6Iv-C5d"
      },
      "source": [
        "### Understanding the Dataset Structure\n",
        "This snippet takes a look at a single sample from the dataset to understand its structure. This is useful for understanding how the data is stored, including keys such as `image`, `label`, and possibly others.\n"
      ]
    },
    {
      "cell_type": "code",
      "execution_count": 5,
      "metadata": {
        "colab": {
          "base_uri": "https://localhost:8080/"
        },
        "collapsed": true,
        "id": "X5ozk-0AC7DD",
        "outputId": "dd3879a2-e494-448e-c6b4-1762538c22ab"
      },
      "outputs": [
        {
          "output_type": "stream",
          "name": "stdout",
          "text": [
            "Sample Data: {'filename': <tf.Tensor: shape=(), dtype=string, numpy=b'River_15.tif'>, 'label': <tf.Tensor: shape=(), dtype=int64, numpy=8>, 'sentinel2': <tf.Tensor: shape=(64, 64, 13), dtype=float32, numpy=\n",
            "array([[[1138.,  909.,  832., ...,  129.,   77.,  354.],\n",
            "        [1138.,  909.,  832., ...,  129.,   77.,  354.],\n",
            "        [1138.,  916.,  826., ...,  127.,   75.,  351.],\n",
            "        ...,\n",
            "        [1172.,  864.,  845., ..., 1939.,  952., 3965.],\n",
            "        [1177.,  865.,  892., ..., 1943.,  987., 3889.],\n",
            "        [1181.,  828.,  844., ..., 1927.,  986., 3874.]],\n",
            "\n",
            "       [[1138.,  909.,  832., ...,  129.,   77.,  354.],\n",
            "        [1138.,  909.,  832., ...,  129.,   77.,  354.],\n",
            "        [1138.,  916.,  826., ...,  127.,   75.,  351.],\n",
            "        ...,\n",
            "        [1172.,  864.,  845., ..., 1939.,  952., 3965.],\n",
            "        [1177.,  865.,  892., ..., 1943.,  987., 3889.],\n",
            "        [1181.,  828.,  844., ..., 1927.,  986., 3874.]],\n",
            "\n",
            "       [[1138.,  916.,  824., ...,  132.,   79.,  349.],\n",
            "        [1138.,  916.,  824., ...,  132.,   79.,  349.],\n",
            "        [1138.,  918.,  834., ...,  129.,   75.,  348.],\n",
            "        ...,\n",
            "        [1169.,  830.,  831., ..., 2021.,  994., 3865.],\n",
            "        [1174.,  834.,  836., ..., 2003., 1022., 3814.],\n",
            "        [1178.,  890.,  900., ..., 1979., 1022., 3803.]],\n",
            "\n",
            "       ...,\n",
            "\n",
            "       [[1187., 1105., 1181., ..., 2376., 1395., 3421.],\n",
            "        [1187., 1105., 1181., ..., 2376., 1395., 3421.],\n",
            "        [1190., 1069., 1136., ..., 2398., 1408., 3343.],\n",
            "        ...,\n",
            "        [1167.,  926.,  842., ...,  130.,   71.,  352.],\n",
            "        [1168.,  929.,  850., ...,  128.,   67.,  352.],\n",
            "        [1169.,  924.,  855., ...,  130.,   70.,  354.]],\n",
            "\n",
            "       [[1184.,  970., 1020., ..., 2356., 1356., 3481.],\n",
            "        [1184.,  970., 1020., ..., 2356., 1356., 3481.],\n",
            "        [1186., 1017., 1091., ..., 2354., 1352., 3423.],\n",
            "        ...,\n",
            "        [1169.,  924.,  844., ...,  141.,   81.,  367.],\n",
            "        [1170.,  927.,  841., ...,  135.,   75.,  361.],\n",
            "        [1169.,  919.,  840., ...,  133.,   77.,  359.]],\n",
            "\n",
            "       [[1181.,  879.,  897., ..., 2362., 1321., 3511.],\n",
            "        [1181.,  879.,  897., ..., 2362., 1321., 3511.],\n",
            "        [1183.,  909.,  931., ..., 2331., 1298., 3489.],\n",
            "        ...,\n",
            "        [1172.,  945.,  886., ...,  156.,   96.,  384.],\n",
            "        [1171.,  930.,  856., ...,  145.,   87.,  372.],\n",
            "        [1171.,  933.,  840., ...,  138.,   85.,  365.]]], dtype=float32)>}\n"
          ]
        }
      ],
      "source": [
        "for sample in dataset.take(1):\n",
        "    print(\"Sample Data:\", sample)"
      ]
    },
    {
      "cell_type": "markdown",
      "metadata": {
        "id": "QtDTUm3CDFey"
      },
      "source": [
        "## Display a few samples to get a sense of the data.\n",
        "\n",
        "\n"
      ]
    },
    {
      "cell_type": "code",
      "execution_count": 6,
      "metadata": {
        "colab": {
          "base_uri": "https://localhost:8080/",
          "height": 259
        },
        "id": "fnaE-wfvxYS5",
        "outputId": "d87aef8f-ebc5-4830-d97b-3dfcfc3b9ef0"
      },
      "outputs": [
        {
          "output_type": "display_data",
          "data": {
            "text/plain": [
              "<Figure size 1500x500 with 5 Axes>"
            ],
            "image/png": "[encoded data removed]"
          },
          "metadata": {}
        }
      ],
      "source": [
        "def show_samples(dataset, num_samples=5):\n",
        "    plt.figure(figsize=(15, 5))\n",
        "    for i, sample in enumerate(dataset.take(num_samples)):\n",
        "        # Extract RGB channels: Band 4 (Red), Band 3 (Green), Band 2 (Blue)\n",
        "        image = np.stack([\n",
        "            sample['sentinel2'][:, :, 3],  # Red (Band 4)\n",
        "            sample['sentinel2'][:, :, 2],  # Green (Band 3)\n",
        "            sample['sentinel2'][:, :, 1]   # Blue (Band 2)\n",
        "        ], axis=-1)\n",
        "\n",
        "        label = sample['label']\n",
        "        plt.subplot(1, num_samples, i + 1)\n",
        "        plt.imshow(image / np.max(image))  # Normalize for better visualization\n",
        "        plt.title(f\"{info.features['label'].int2str(label)}\")\n",
        "        plt.axis('off')\n",
        "    plt.show()\n",
        "\n",
        "# Show 5 samples from the dataset\n",
        "show_samples(dataset, num_samples=5)"
      ]
    },
    {
      "cell_type": "markdown",
      "metadata": {
        "id": "PPiTksqlEukP"
      },
      "source": [
        "This function (`show_samples`) is used to visualize a few samples from the dataset. It takes a specified number of samples (`num_samples`) and plots them using `matplotlib`. Each plot includes:\n",
        "- The **image** itself, using only the **RGB channels** (Bands 4, 3, and 2) for easier visualization.\n",
        "- The **label** converted from integer to string using `info.features['label'].int2str(label)`. Only the label is used in the title, without the filename.\n",
        "- **Normalization** is applied when displaying the images to make sure the values are between 0 and 1, which enhances visualization.\n",
        "\n",
        "This step helps to visually inspect the dataset and get a sense of the variety of classes and image quality.\n"
      ]
    },
    {
      "cell_type": "markdown",
      "metadata": {
        "id": "6aj76MT2GELY"
      },
      "source": [
        "# ResNet"
      ]
    },
    {
      "cell_type": "markdown",
      "metadata": {
        "id": "9DPRDUGhGAjy"
      },
      "source": [
        "### Resize images to the input size required by ResNet and GoogleNet (224x224)"
      ]
    },
    {
      "cell_type": "code",
      "execution_count": 31,
      "metadata": {
        "id": "uz_Jfzf1GKet"
      },
      "outputs": [],
      "source": [
        "# Resize images to the input size required by ResNet and GoogleNet (224x224)\n",
        "def preprocess_image(image):\n",
        "    # Extract RGB channels (Bands 4, 3, 2)\n",
        "    image_rgb = tf.stack([\n",
        "        image[:, :, 3],  # Red (Band 4)\n",
        "        image[:, :, 2],  # Green (Band 3)\n",
        "        image[:, :, 1]   # Blue (Band 2)\n",
        "    ], axis=-1)\n",
        "\n",
        "    # Resize to 224x224 for ResNet and GoogleNet\n",
        "    image_resized = resize(image_rgb, (224, 224))\n",
        "\n",
        "    # Normalize the image to [0, 1] range\n",
        "    image_resized = image_resized / 255.0\n",
        "\n",
        "    # Standardize with ImageNet mean and std\n",
        "    imagenet_mean = tf.constant([0.485, 0.456, 0.406], dtype=tf.float32)\n",
        "    imagenet_std = tf.constant([0.229, 0.224, 0.225], dtype=tf.float32)\n",
        "    image_normalized = (image_resized - imagenet_mean) / imagenet_std\n",
        "    return image_normalized"
      ]
    },
    {
      "cell_type": "code",
      "execution_count": 32,
      "metadata": {
        "id": "sHQ3GAjiGaak"
      },
      "outputs": [],
      "source": [
        "# Apply preprocessing directly using TensorFlow Dataset API\n",
        "def preprocess_dataset(dataset):\n",
        "    def preprocess_function(sample):\n",
        "        image = preprocess_image(sample['sentinel2'])\n",
        "        label = sample['label']\n",
        "        return image, label\n",
        "\n",
        "    # Apply the preprocessing function to the entire dataset\n",
        "    preprocessed_dataset = dataset.map(preprocess_function, num_parallel_calls=tf.data.AUTOTUNE)\n",
        "    return preprocessed_dataset"
      ]
    },
    {
      "cell_type": "markdown",
      "metadata": {
        "id": "2qnGrLEeGhRg"
      },
      "source": [
        "### Preprocess the dataset"
      ]
    },
    {
      "cell_type": "code",
      "execution_count": 33,
      "metadata": {
        "id": "gt3ISR6JGgBk"
      },
      "outputs": [],
      "source": [
        "# Preprocess the dataset (using the entire dataset with efficient batching and prefetching)\n",
        "preprocessed_dataset = preprocess_dataset(dataset)"
      ]
    },
    {
      "cell_type": "markdown",
      "source": [
        "### Split the Dataset"
      ],
      "metadata": {
        "id": "s-3djOXrvmqK"
      }
    },
    {
      "cell_type": "code",
      "source": [
        "# Shuffle the dataset to ensure randomness\n",
        "preprocessed_dataset = preprocessed_dataset.shuffle(buffer_size=10000, seed=42)\n",
        "\n",
        "# Calculate dataset sizes\n",
        "total_size = tf.data.experimental.cardinality(preprocessed_dataset).numpy()\n",
        "train_size = int(0.7 * total_size)\n",
        "val_size = int(0.15 * total_size)"
      ],
      "metadata": {
        "id": "ctfYM_30w7Lo"
      },
      "execution_count": 34,
      "outputs": []
    },
    {
      "cell_type": "code",
      "source": [
        "# Split the dataset\n",
        "train_dataset = preprocessed_dataset.take(train_size)\n",
        "remaining_dataset = preprocessed_dataset.skip(train_size)\n",
        "val_dataset = remaining_dataset.take(val_size)\n",
        "test_dataset = remaining_dataset.skip(val_size)"
      ],
      "metadata": {
        "id": "DUyMtr-KydY4"
      },
      "execution_count": 35,
      "outputs": []
    },
    {
      "cell_type": "code",
      "source": [
        "# Apply batching after splitting\n",
        "train_dataset = train_dataset.batch(32).prefetch(buffer_size=tf.data.AUTOTUNE)\n",
        "val_dataset = val_dataset.batch(32).prefetch(buffer_size=tf.data.AUTOTUNE)\n",
        "test_dataset = test_dataset.batch(32).prefetch(buffer_size=tf.data.AUTOTUNE)\n"
      ],
      "metadata": {
        "id": "Zi04IGWR1Fz2"
      },
      "execution_count": 36,
      "outputs": []
    },
    {
      "cell_type": "code",
      "source": [
        "# Print the sizes of each split to verify\n",
        "print(f\"Training set size: {train_size}\")\n",
        "print(f\"Validation set size: {val_size}\")\n",
        "print(f\"Test set size: {tf.data.experimental.cardinality(test_dataset).numpy()}\")"
      ],
      "metadata": {
        "colab": {
          "base_uri": "https://localhost:8080/"
        },
        "id": "x0wN-cSXygT5",
        "outputId": "1cbac1db-aefb-41f6-b835-046446446bd3"
      },
      "execution_count": 37,
      "outputs": [
        {
          "output_type": "stream",
          "name": "stdout",
          "text": [
            "Training set size: 18900\n",
            "Validation set size: 4050\n",
            "Test set size: 127\n"
          ]
        }
      ]
    },
    {
      "cell_type": "markdown",
      "source": [
        "### Load Pre-trained ResNet50 Model and Modify for EuroSAT"
      ],
      "metadata": {
        "id": "P4f-AzGgNw0U"
      }
    },
    {
      "cell_type": "code",
      "source": [
        "from tensorflow.keras.applications import ResNet50\n",
        "from tensorflow.keras import layers, models"
      ],
      "metadata": {
        "id": "rAbbIUCYNuxn"
      },
      "execution_count": 38,
      "outputs": []
    },
    {
      "cell_type": "code",
      "source": [
        "# Load pre-trained ResNet50 model without the top layer\n",
        "base_model = ResNet50(weights='imagenet', include_top=False, input_shape=(224, 224, 3))\n"
      ],
      "metadata": {
        "id": "M4Fhw9qvOdxh"
      },
      "execution_count": 39,
      "outputs": []
    },
    {
      "cell_type": "code",
      "source": [
        "# Freeze the pre-trained layers\n",
        "base_model.trainable = False"
      ],
      "metadata": {
        "id": "-Y8-ltVxOh4-"
      },
      "execution_count": 40,
      "outputs": []
    },
    {
      "cell_type": "code",
      "source": [
        "# Create a new model\n",
        "model = models.Sequential([\n",
        "    base_model,  # Pre-trained ResNet50 as the feature extractor\n",
        "    layers.GlobalAveragePooling2D(),  # Reduce dimensions to a single vector per feature map\n",
        "    layers.Dense(10, activation='softmax')  # Output layer with 10 classes for EuroSAT\n",
        "])\n",
        "\n",
        "# Summary of the model to verify\n",
        "model.summary()"
      ],
      "metadata": {
        "colab": {
          "base_uri": "https://localhost:8080/"
        },
        "id": "wngMXjX3Oy6k",
        "outputId": "10c54f2d-29b0-403c-fed8-c65468c46965"
      },
      "execution_count": 42,
      "outputs": [
        {
          "output_type": "stream",
          "name": "stdout",
          "text": [
            "Model: \"sequential_1\"\n",
            "_________________________________________________________________\n",
            " Layer (type)                Output Shape              Param #   \n",
            "=================================================================\n",
            " resnet50 (Functional)       (None, 7, 7, 2048)        23587712  \n",
            "                                                                 \n",
            " global_average_pooling2d_1  (None, 2048)              0         \n",
            "  (GlobalAveragePooling2D)                                       \n",
            "                                                                 \n",
            " dense_1 (Dense)             (None, 10)                20490     \n",
            "                                                                 \n",
            "=================================================================\n",
            "Total params: 23608202 (90.06 MB)\n",
            "Trainable params: 20490 (80.04 KB)\n",
            "Non-trainable params: 23587712 (89.98 MB)\n",
            "_________________________________________________________________\n"
          ]
        }
      ]
    },
    {
      "cell_type": "code",
      "source": [
        "# Compile the Model\n",
        "model.compile(optimizer='adam',\n",
        "              loss='sparse_categorical_crossentropy',\n",
        "              metrics=['accuracy'])\n"
      ],
      "metadata": {
        "id": "vNHKIufSVIVl"
      },
      "execution_count": 43,
      "outputs": []
    },
    {
      "cell_type": "code",
      "source": [
        "# Train the Model\n",
        "history = model.fit(train_dataset,\n",
        "                    validation_data=val_dataset,\n",
        "                    epochs=10)\n"
      ],
      "metadata": {
        "colab": {
          "base_uri": "https://localhost:8080/"
        },
        "id": "iDhaDFzxVPDD",
        "outputId": "6d1ee4b2-a0f7-45f8-e516-4f25654d50a8"
      },
      "execution_count": 44,
      "outputs": [
        {
          "output_type": "stream",
          "name": "stdout",
          "text": [
            "Epoch 1/10\n",
            "591/591 [==============================] - 382s 638ms/step - loss: 0.4280 - accuracy: 0.8620 - val_loss: 0.2536 - val_accuracy: 0.9200\n",
            "Epoch 2/10\n",
            "591/591 [==============================] - 378s 638ms/step - loss: 0.2381 - accuracy: 0.9223 - val_loss: 0.2080 - val_accuracy: 0.9326\n",
            "Epoch 3/10\n",
            "591/591 [==============================] - 380s 638ms/step - loss: 0.1981 - accuracy: 0.9342 - val_loss: 0.1934 - val_accuracy: 0.9348\n",
            "Epoch 4/10\n",
            "591/591 [==============================] - 381s 640ms/step - loss: 0.1780 - accuracy: 0.9410 - val_loss: 0.1744 - val_accuracy: 0.9440\n",
            "Epoch 5/10\n",
            "591/591 [==============================] - 382s 641ms/step - loss: 0.1585 - accuracy: 0.9470 - val_loss: 0.1461 - val_accuracy: 0.9523\n",
            "Epoch 6/10\n",
            "591/591 [==============================] - 381s 640ms/step - loss: 0.1496 - accuracy: 0.9494 - val_loss: 0.1457 - val_accuracy: 0.9516\n",
            "Epoch 7/10\n",
            "591/591 [==============================] - 384s 647ms/step - loss: 0.1406 - accuracy: 0.9533 - val_loss: 0.1450 - val_accuracy: 0.9481\n",
            "Epoch 8/10\n",
            "591/591 [==============================] - 390s 657ms/step - loss: 0.1322 - accuracy: 0.9570 - val_loss: 0.1235 - val_accuracy: 0.9585\n",
            "Epoch 9/10\n",
            "591/591 [==============================] - 387s 652ms/step - loss: 0.1233 - accuracy: 0.9588 - val_loss: 0.1292 - val_accuracy: 0.9558\n",
            "Epoch 10/10\n",
            "591/591 [==============================] - 382s 642ms/step - loss: 0.1161 - accuracy: 0.9612 - val_loss: 0.1207 - val_accuracy: 0.9602\n"
          ]
        }
      ]
    },
    {
      "cell_type": "code",
      "source": [
        "# Evaluate the Model on Test Set\n",
        "test_loss, test_accuracy = model.evaluate(test_dataset)\n",
        "print(f\"Test Accuracy: {test_accuracy:.2f}\")"
      ],
      "metadata": {
        "colab": {
          "base_uri": "https://localhost:8080/"
        },
        "id": "yhWynsTwVUEZ",
        "outputId": "01dc4cc4-dd82-43c8-831a-d5feab50ea03"
      },
      "execution_count": 45,
      "outputs": [
        {
          "output_type": "stream",
          "name": "stdout",
          "text": [
            "127/127 [==============================] - 70s 519ms/step - loss: 0.1172 - accuracy: 0.9627\n",
            "Test Accuracy: 0.96\n"
          ]
        }
      ]
    }
  ],
  "metadata": {
    "accelerator": "TPU",
    "colab": {
      "gpuType": "V28",
      "provenance": [],
      "authorship_tag": "ABX9TyMwfs46WvvOT30CtDwZfWma",
      "include_colab_link": true
    },
    "kernelspec": {
      "display_name": "Python 3",
      "name": "python3"
    },
    "language_info": {
      "name": "python"
    }
  },
  "nbformat": 4,
  "nbformat_minor": 0
}